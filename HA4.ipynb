{
 "cells": [
  {
   "cell_type": "markdown",
   "metadata": {},
   "source": [
    "# <center> Home assignment 4. Pandas </center>"
   ]
  },
  {
   "cell_type": "code",
   "execution_count": 35,
   "metadata": {},
   "outputs": [],
   "source": [
    "import pandas as pd"
   ]
  },
  {
   "cell_type": "markdown",
   "metadata": {},
   "source": [
    "From [World Health Organization](https://www.who.int/emergencies/diseases/novel-coronavirus-2019) - On 31 December 2019, WHO was alerted to several cases of pneumonia in Wuhan City, Hubei Province of China. The virus did not match any other known virus. This raised concern because when a virus is new, we do not know how it affects people. So daily level information on the affected people can give some interesting insights when it is made available to the broader data science community.\n",
    "\n",
    "This data set (```covid_19_data_ha4.csv```) has daily level information on the number of affected cases, deaths, and recovery from the 2019 novel coronavirus. Please note that this is time-series data and so the number of cases on any given day is the cumulative number. The data is available from 22 January 2020.\n",
    "\n",
    "The data source for more details: https://www.kaggle.com/sudalairajkumar/novel-corona-virus-2019-dataset?select=covid_19_data.csv\n",
    "\n",
    "By the way, [Johns Hopkins University](https://gisanddata.maps.arcgis.com/apps/opsdashboard/index.html#/bda7594740fd40299423467b48e9ecf6) has made an excellent dashboard using the affected cases from this data set. "
   ]
  },
  {
   "cell_type": "markdown",
   "metadata": {},
   "source": [
    "**Task 1** [1 point]. Read the data set ```covid_19_data_ha4.csv``` into DataFrame using pandas library, change a parameter for making the first column (```SNo```) to be the index of out table, and save a variable ```df``` for addressing to this table (DataFrame) in the next steps. Return the first 20 rows in the output and have a look at what is inside this table."
   ]
  },
  {
   "cell_type": "code",
   "execution_count": 59,
   "metadata": {
    "scrolled": true
   },
   "outputs": [
    {
     "data": {
      "text/html": [
       "<div>\n",
       "<style scoped>\n",
       "    .dataframe tbody tr th:only-of-type {\n",
       "        vertical-align: middle;\n",
       "    }\n",
       "\n",
       "    .dataframe tbody tr th {\n",
       "        vertical-align: top;\n",
       "    }\n",
       "\n",
       "    .dataframe thead th {\n",
       "        text-align: right;\n",
       "    }\n",
       "</style>\n",
       "<table border=\"1\" class=\"dataframe\">\n",
       "  <thead>\n",
       "    <tr style=\"text-align: right;\">\n",
       "      <th></th>\n",
       "      <th>ObservationDate</th>\n",
       "      <th>Province/State</th>\n",
       "      <th>Country/Region</th>\n",
       "      <th>Last Update</th>\n",
       "      <th>Confirmed</th>\n",
       "      <th>Deaths</th>\n",
       "      <th>Recovered</th>\n",
       "    </tr>\n",
       "    <tr>\n",
       "      <th>SNo</th>\n",
       "      <th></th>\n",
       "      <th></th>\n",
       "      <th></th>\n",
       "      <th></th>\n",
       "      <th></th>\n",
       "      <th></th>\n",
       "      <th></th>\n",
       "    </tr>\n",
       "  </thead>\n",
       "  <tbody>\n",
       "    <tr>\n",
       "      <th>1</th>\n",
       "      <td>01/22/2020</td>\n",
       "      <td>Anhui</td>\n",
       "      <td>Mainland China</td>\n",
       "      <td>1/22/2020 17:00</td>\n",
       "      <td>1.0</td>\n",
       "      <td>0.0</td>\n",
       "      <td>0.0</td>\n",
       "    </tr>\n",
       "    <tr>\n",
       "      <th>2</th>\n",
       "      <td>01/22/2020</td>\n",
       "      <td>Beijing</td>\n",
       "      <td>Mainland China</td>\n",
       "      <td>1/22/2020 17:00</td>\n",
       "      <td>14.0</td>\n",
       "      <td>0.0</td>\n",
       "      <td>0.0</td>\n",
       "    </tr>\n",
       "    <tr>\n",
       "      <th>3</th>\n",
       "      <td>01/22/2020</td>\n",
       "      <td>Chongqing</td>\n",
       "      <td>Mainland China</td>\n",
       "      <td>1/22/2020 17:00</td>\n",
       "      <td>6.0</td>\n",
       "      <td>0.0</td>\n",
       "      <td>0.0</td>\n",
       "    </tr>\n",
       "    <tr>\n",
       "      <th>4</th>\n",
       "      <td>01/22/2020</td>\n",
       "      <td>Fujian</td>\n",
       "      <td>Mainland China</td>\n",
       "      <td>1/22/2020 17:00</td>\n",
       "      <td>1.0</td>\n",
       "      <td>0.0</td>\n",
       "      <td>0.0</td>\n",
       "    </tr>\n",
       "    <tr>\n",
       "      <th>5</th>\n",
       "      <td>01/22/2020</td>\n",
       "      <td>Gansu</td>\n",
       "      <td>Mainland China</td>\n",
       "      <td>1/22/2020 17:00</td>\n",
       "      <td>NaN</td>\n",
       "      <td>0.0</td>\n",
       "      <td>0.0</td>\n",
       "    </tr>\n",
       "    <tr>\n",
       "      <th>6</th>\n",
       "      <td>01/22/2020</td>\n",
       "      <td>Guangdong</td>\n",
       "      <td>Mainland China</td>\n",
       "      <td>1/22/2020 17:00</td>\n",
       "      <td>26.0</td>\n",
       "      <td>0.0</td>\n",
       "      <td>0.0</td>\n",
       "    </tr>\n",
       "    <tr>\n",
       "      <th>7</th>\n",
       "      <td>01/22/2020</td>\n",
       "      <td>Guangxi</td>\n",
       "      <td>Mainland China</td>\n",
       "      <td>1/22/2020 17:00</td>\n",
       "      <td>2.0</td>\n",
       "      <td>0.0</td>\n",
       "      <td>0.0</td>\n",
       "    </tr>\n",
       "    <tr>\n",
       "      <th>8</th>\n",
       "      <td>01/22/2020</td>\n",
       "      <td>Guizhou</td>\n",
       "      <td>Mainland China</td>\n",
       "      <td>1/22/2020 17:00</td>\n",
       "      <td>1.0</td>\n",
       "      <td>0.0</td>\n",
       "      <td>0.0</td>\n",
       "    </tr>\n",
       "    <tr>\n",
       "      <th>9</th>\n",
       "      <td>01/22/2020</td>\n",
       "      <td>Hainan</td>\n",
       "      <td>Mainland China</td>\n",
       "      <td>1/22/2020 17:00</td>\n",
       "      <td>4.0</td>\n",
       "      <td>0.0</td>\n",
       "      <td>0.0</td>\n",
       "    </tr>\n",
       "    <tr>\n",
       "      <th>10</th>\n",
       "      <td>01/22/2020</td>\n",
       "      <td>Hebei</td>\n",
       "      <td>Mainland China</td>\n",
       "      <td>1/22/2020 17:00</td>\n",
       "      <td>1.0</td>\n",
       "      <td>0.0</td>\n",
       "      <td>0.0</td>\n",
       "    </tr>\n",
       "    <tr>\n",
       "      <th>11</th>\n",
       "      <td>01/22/2020</td>\n",
       "      <td>Heilongjiang</td>\n",
       "      <td>Mainland China</td>\n",
       "      <td>1/22/2020 17:00</td>\n",
       "      <td>NaN</td>\n",
       "      <td>0.0</td>\n",
       "      <td>0.0</td>\n",
       "    </tr>\n",
       "    <tr>\n",
       "      <th>12</th>\n",
       "      <td>01/22/2020</td>\n",
       "      <td>Henan</td>\n",
       "      <td>Mainland China</td>\n",
       "      <td>1/22/2020 17:00</td>\n",
       "      <td>5.0</td>\n",
       "      <td>0.0</td>\n",
       "      <td>0.0</td>\n",
       "    </tr>\n",
       "    <tr>\n",
       "      <th>13</th>\n",
       "      <td>01/22/2020</td>\n",
       "      <td>Hong Kong</td>\n",
       "      <td>Hong Kong</td>\n",
       "      <td>1/22/2020 17:00</td>\n",
       "      <td>0.0</td>\n",
       "      <td>0.0</td>\n",
       "      <td>0.0</td>\n",
       "    </tr>\n",
       "    <tr>\n",
       "      <th>14</th>\n",
       "      <td>01/22/2020</td>\n",
       "      <td>Hubei</td>\n",
       "      <td>Mainland China</td>\n",
       "      <td>1/22/2020 17:00</td>\n",
       "      <td>444.0</td>\n",
       "      <td>17.0</td>\n",
       "      <td>28.0</td>\n",
       "    </tr>\n",
       "    <tr>\n",
       "      <th>15</th>\n",
       "      <td>01/22/2020</td>\n",
       "      <td>Hunan</td>\n",
       "      <td>Mainland China</td>\n",
       "      <td>1/22/2020 17:00</td>\n",
       "      <td>4.0</td>\n",
       "      <td>0.0</td>\n",
       "      <td>0.0</td>\n",
       "    </tr>\n",
       "    <tr>\n",
       "      <th>16</th>\n",
       "      <td>01/22/2020</td>\n",
       "      <td>Inner Mongolia</td>\n",
       "      <td>Mainland China</td>\n",
       "      <td>1/22/2020 17:00</td>\n",
       "      <td>0.0</td>\n",
       "      <td>0.0</td>\n",
       "      <td>0.0</td>\n",
       "    </tr>\n",
       "    <tr>\n",
       "      <th>17</th>\n",
       "      <td>01/22/2020</td>\n",
       "      <td>Jiangsu</td>\n",
       "      <td>Mainland China</td>\n",
       "      <td>1/22/2020 17:00</td>\n",
       "      <td>NaN</td>\n",
       "      <td>0.0</td>\n",
       "      <td>0.0</td>\n",
       "    </tr>\n",
       "    <tr>\n",
       "      <th>18</th>\n",
       "      <td>01/22/2020</td>\n",
       "      <td>Jiangxi</td>\n",
       "      <td>Mainland China</td>\n",
       "      <td>1/22/2020 17:00</td>\n",
       "      <td>2.0</td>\n",
       "      <td>0.0</td>\n",
       "      <td>0.0</td>\n",
       "    </tr>\n",
       "    <tr>\n",
       "      <th>19</th>\n",
       "      <td>01/22/2020</td>\n",
       "      <td>Jilin</td>\n",
       "      <td>Mainland China</td>\n",
       "      <td>1/22/2020 17:00</td>\n",
       "      <td>NaN</td>\n",
       "      <td>0.0</td>\n",
       "      <td>0.0</td>\n",
       "    </tr>\n",
       "    <tr>\n",
       "      <th>20</th>\n",
       "      <td>01/22/2020</td>\n",
       "      <td>Liaoning</td>\n",
       "      <td>Mainland China</td>\n",
       "      <td>1/22/2020 17:00</td>\n",
       "      <td>2.0</td>\n",
       "      <td>0.0</td>\n",
       "      <td>0.0</td>\n",
       "    </tr>\n",
       "  </tbody>\n",
       "</table>\n",
       "</div>"
      ],
      "text/plain": [
       "    ObservationDate  Province/State  Country/Region      Last Update  \\\n",
       "SNo                                                                    \n",
       "1        01/22/2020           Anhui  Mainland China  1/22/2020 17:00   \n",
       "2        01/22/2020         Beijing  Mainland China  1/22/2020 17:00   \n",
       "3        01/22/2020       Chongqing  Mainland China  1/22/2020 17:00   \n",
       "4        01/22/2020          Fujian  Mainland China  1/22/2020 17:00   \n",
       "5        01/22/2020           Gansu  Mainland China  1/22/2020 17:00   \n",
       "6        01/22/2020       Guangdong  Mainland China  1/22/2020 17:00   \n",
       "7        01/22/2020         Guangxi  Mainland China  1/22/2020 17:00   \n",
       "8        01/22/2020         Guizhou  Mainland China  1/22/2020 17:00   \n",
       "9        01/22/2020          Hainan  Mainland China  1/22/2020 17:00   \n",
       "10       01/22/2020           Hebei  Mainland China  1/22/2020 17:00   \n",
       "11       01/22/2020    Heilongjiang  Mainland China  1/22/2020 17:00   \n",
       "12       01/22/2020           Henan  Mainland China  1/22/2020 17:00   \n",
       "13       01/22/2020       Hong Kong       Hong Kong  1/22/2020 17:00   \n",
       "14       01/22/2020           Hubei  Mainland China  1/22/2020 17:00   \n",
       "15       01/22/2020           Hunan  Mainland China  1/22/2020 17:00   \n",
       "16       01/22/2020  Inner Mongolia  Mainland China  1/22/2020 17:00   \n",
       "17       01/22/2020         Jiangsu  Mainland China  1/22/2020 17:00   \n",
       "18       01/22/2020         Jiangxi  Mainland China  1/22/2020 17:00   \n",
       "19       01/22/2020           Jilin  Mainland China  1/22/2020 17:00   \n",
       "20       01/22/2020        Liaoning  Mainland China  1/22/2020 17:00   \n",
       "\n",
       "     Confirmed  Deaths  Recovered  \n",
       "SNo                                \n",
       "1          1.0     0.0        0.0  \n",
       "2         14.0     0.0        0.0  \n",
       "3          6.0     0.0        0.0  \n",
       "4          1.0     0.0        0.0  \n",
       "5          NaN     0.0        0.0  \n",
       "6         26.0     0.0        0.0  \n",
       "7          2.0     0.0        0.0  \n",
       "8          1.0     0.0        0.0  \n",
       "9          4.0     0.0        0.0  \n",
       "10         1.0     0.0        0.0  \n",
       "11         NaN     0.0        0.0  \n",
       "12         5.0     0.0        0.0  \n",
       "13         0.0     0.0        0.0  \n",
       "14       444.0    17.0       28.0  \n",
       "15         4.0     0.0        0.0  \n",
       "16         0.0     0.0        0.0  \n",
       "17         NaN     0.0        0.0  \n",
       "18         2.0     0.0        0.0  \n",
       "19         NaN     0.0        0.0  \n",
       "20         2.0     0.0        0.0  "
      ]
     },
     "execution_count": 59,
     "metadata": {},
     "output_type": "execute_result"
    }
   ],
   "source": [
    "df = pd.read_csv('covid_19_data_ha4.csv', delimiter=',')\n",
    "df = df.set_index('SNo')\n",
    "\n",
    "df.head(20)"
   ]
  },
  {
   "cell_type": "markdown",
   "metadata": {},
   "source": [
    "**Task 2** [2 points]. Look at the size of this data set (how many rows and columns it contains).Check the data types for all columns and get descriptive statistics for all of them.\n",
    "\n",
    "*Hint*: You can summarize the numeric and text columns separately, or compile one summary that includes all data types."
   ]
  },
  {
   "cell_type": "code",
   "execution_count": 60,
   "metadata": {},
   "outputs": [
    {
     "data": {
      "text/plain": [
       "(236017, 7)"
      ]
     },
     "execution_count": 60,
     "metadata": {},
     "output_type": "execute_result"
    }
   ],
   "source": [
    "df.shape"
   ]
  },
  {
   "cell_type": "code",
   "execution_count": 61,
   "metadata": {
    "scrolled": true
   },
   "outputs": [
    {
     "data": {
      "text/plain": [
       "Index(['ObservationDate', 'Province/State', 'Country/Region', 'Last Update',\n",
       "       'Confirmed', 'Deaths', 'Recovered'],\n",
       "      dtype='object')"
      ]
     },
     "execution_count": 61,
     "metadata": {},
     "output_type": "execute_result"
    }
   ],
   "source": [
    "df.columns"
   ]
  },
  {
   "cell_type": "code",
   "execution_count": 62,
   "metadata": {
    "scrolled": true
   },
   "outputs": [
    {
     "data": {
      "text/plain": [
       "ObservationDate     object\n",
       "Province/State      object\n",
       "Country/Region      object\n",
       "Last Update         object\n",
       "Confirmed          float64\n",
       "Deaths             float64\n",
       "Recovered          float64\n",
       "dtype: object"
      ]
     },
     "execution_count": 62,
     "metadata": {},
     "output_type": "execute_result"
    }
   ],
   "source": [
    "df.dtypes"
   ]
  },
  {
   "cell_type": "code",
   "execution_count": 63,
   "metadata": {},
   "outputs": [
    {
     "data": {
      "text/html": [
       "<div>\n",
       "<style scoped>\n",
       "    .dataframe tbody tr th:only-of-type {\n",
       "        vertical-align: middle;\n",
       "    }\n",
       "\n",
       "    .dataframe tbody tr th {\n",
       "        vertical-align: top;\n",
       "    }\n",
       "\n",
       "    .dataframe thead th {\n",
       "        text-align: right;\n",
       "    }\n",
       "</style>\n",
       "<table border=\"1\" class=\"dataframe\">\n",
       "  <thead>\n",
       "    <tr style=\"text-align: right;\">\n",
       "      <th></th>\n",
       "      <th>Confirmed</th>\n",
       "      <th>Deaths</th>\n",
       "      <th>Recovered</th>\n",
       "    </tr>\n",
       "  </thead>\n",
       "  <tbody>\n",
       "    <tr>\n",
       "      <th>count</th>\n",
       "      <td>1.572340e+05</td>\n",
       "      <td>236017.000000</td>\n",
       "      <td>2.360170e+05</td>\n",
       "    </tr>\n",
       "    <tr>\n",
       "      <th>mean</th>\n",
       "      <td>5.742544e+04</td>\n",
       "      <td>1487.719368</td>\n",
       "      <td>3.393027e+04</td>\n",
       "    </tr>\n",
       "    <tr>\n",
       "      <th>std</th>\n",
       "      <td>1.849079e+05</td>\n",
       "      <td>4770.414639</td>\n",
       "      <td>1.474800e+05</td>\n",
       "    </tr>\n",
       "    <tr>\n",
       "      <th>min</th>\n",
       "      <td>0.000000e+00</td>\n",
       "      <td>-178.000000</td>\n",
       "      <td>-8.544050e+05</td>\n",
       "    </tr>\n",
       "    <tr>\n",
       "      <th>25%</th>\n",
       "      <td>7.280000e+02</td>\n",
       "      <td>9.000000</td>\n",
       "      <td>1.000000e+01</td>\n",
       "    </tr>\n",
       "    <tr>\n",
       "      <th>50%</th>\n",
       "      <td>6.675500e+03</td>\n",
       "      <td>127.000000</td>\n",
       "      <td>1.224000e+03</td>\n",
       "    </tr>\n",
       "    <tr>\n",
       "      <th>75%</th>\n",
       "      <td>3.348300e+04</td>\n",
       "      <td>880.000000</td>\n",
       "      <td>1.263900e+04</td>\n",
       "    </tr>\n",
       "    <tr>\n",
       "      <th>max</th>\n",
       "      <td>3.664050e+06</td>\n",
       "      <td>108208.000000</td>\n",
       "      <td>6.399531e+06</td>\n",
       "    </tr>\n",
       "  </tbody>\n",
       "</table>\n",
       "</div>"
      ],
      "text/plain": [
       "          Confirmed         Deaths     Recovered\n",
       "count  1.572340e+05  236017.000000  2.360170e+05\n",
       "mean   5.742544e+04    1487.719368  3.393027e+04\n",
       "std    1.849079e+05    4770.414639  1.474800e+05\n",
       "min    0.000000e+00    -178.000000 -8.544050e+05\n",
       "25%    7.280000e+02       9.000000  1.000000e+01\n",
       "50%    6.675500e+03     127.000000  1.224000e+03\n",
       "75%    3.348300e+04     880.000000  1.263900e+04\n",
       "max    3.664050e+06  108208.000000  6.399531e+06"
      ]
     },
     "execution_count": 63,
     "metadata": {},
     "output_type": "execute_result"
    }
   ],
   "source": [
    "df.describe()"
   ]
  },
  {
   "cell_type": "markdown",
   "metadata": {},
   "source": [
    "**Task 3** [3 points]. Answer the following questions using the descriptive statistics report (from Task 2):\n",
    "\n",
    "| Questions | \n",
    "| :--- |\n",
    "| 1. How many countries covers this data set on COVID-19? |\n",
    "| 2. On what observation date the table contains the most information (the greatest number of rows)?  |\n",
    "| 3. What is the median  for the number of deaths?|\n",
    "\n",
    "\n",
    "*Remark*: \n",
    "\n",
    "If you see numbers in your table in exponential format, for instance, 2.360170e+05, you can convert them to floating point for convenience:\n",
    "\n",
    "```python \n",
    ">>> float(2.360170e+05)\n",
    "236017.0\n",
    "```"
   ]
  },
  {
   "cell_type": "code",
   "execution_count": 64,
   "metadata": {
    "scrolled": true
   },
   "outputs": [
    {
     "data": {
      "text/plain": [
       "227"
      ]
     },
     "execution_count": 64,
     "metadata": {},
     "output_type": "execute_result"
    }
   ],
   "source": [
    "df[R'Country/Region'].nunique(dropna = True) "
   ]
  },
  {
   "cell_type": "code",
   "execution_count": 65,
   "metadata": {
    "scrolled": true
   },
   "outputs": [
    {
     "data": {
      "text/plain": [
       "02/27/2021    764\n",
       "02/19/2021    764\n",
       "02/21/2021    764\n",
       "02/24/2021    764\n",
       "02/22/2021    764\n",
       "             ... \n",
       "01/26/2020     47\n",
       "01/23/2020     46\n",
       "01/25/2020     44\n",
       "01/24/2020     41\n",
       "01/22/2020     38\n",
       "Name: ObservationDate, Length: 403, dtype: int64"
      ]
     },
     "execution_count": 65,
     "metadata": {},
     "output_type": "execute_result"
    }
   ],
   "source": [
    "df['ObservationDate'].value_counts()"
   ]
  },
  {
   "cell_type": "code",
   "execution_count": 66,
   "metadata": {},
   "outputs": [
    {
     "data": {
      "text/plain": [
       "127.0"
      ]
     },
     "execution_count": 66,
     "metadata": {},
     "output_type": "execute_result"
    }
   ],
   "source": [
    "df[\"Deaths\"].median()"
   ]
  },
  {
   "cell_type": "markdown",
   "metadata": {},
   "source": [
    "**Task 4** [1 point]. Recall a method that we used for getting counts for unique rows in the DataFrame.\n",
    "Select a column with observation dates and return the distribution how many rows are in this table for each date. Make it in ascending order and select top 50 rows.\n",
    "\n",
    "Now, you are able to see how many states and countries were confirmed to have COVID-19 starting from 22 January 2020 for the first 50 days. "
   ]
  },
  {
   "cell_type": "code",
   "execution_count": 67,
   "metadata": {
    "scrolled": false
   },
   "outputs": [
    {
     "data": {
      "text/plain": [
       "Province/State\n",
       " Montreal, QC                    10\n",
       " Norfolk County, MA               5\n",
       "Abruzzo                         290\n",
       "Acre                            284\n",
       "Adygea Republic                 272\n",
       "Aguascalientes                  284\n",
       "Aichi                           276\n",
       "Akita                           276\n",
       "Alabama                         352\n",
       "Alagoas                         284\n",
       "Alameda County, CA                3\n",
       "Alaska                          354\n",
       "Alberta                         356\n",
       "Altai Krai                      272\n",
       "Altai Republic                  272\n",
       "Amapa                           284\n",
       "Amazonas                        284\n",
       "American Samoa                    9\n",
       "Amur Oblast                     272\n",
       "Ancash                          276\n",
       "Andalusia                       290\n",
       "Andaman and Nicobar Islands     263\n",
       "Andhra Pradesh                  263\n",
       "Anguilla                        337\n",
       "Anhui                           403\n",
       "Antioquia                       276\n",
       "Antofagasta                     284\n",
       "Antwerp                         108\n",
       "Aomori                          276\n",
       "Apurimac                        276\n",
       "Aragon                          290\n",
       "Arauca                          276\n",
       "Araucania                       284\n",
       "Arequipa                        276\n",
       "Arica y Parinacota              284\n",
       "Arizona                         361\n",
       "Arkansas                        355\n",
       "Arkhangelsk Oblast              272\n",
       "Aruba                           347\n",
       "Arunachal Pradesh               263\n",
       "Ashland, NE                       1\n",
       "Assam                           263\n",
       "Astrakhan Oblast                272\n",
       "Asturias                        290\n",
       "Atacama                         284\n",
       "Atlantico                       276\n",
       "Australian Capital Territory    352\n",
       "Ayacucho                        276\n",
       "Aysen                           284\n",
       "Azad Jammu and Kashmir          263\n",
       "Name: ObservationDate, dtype: int64"
      ]
     },
     "execution_count": 67,
     "metadata": {},
     "output_type": "execute_result"
    }
   ],
   "source": [
    "df2 = df.groupby(R'Province/State')['ObservationDate'].nunique()\n",
    "df2.head(50)"
   ]
  },
  {
   "cell_type": "markdown",
   "metadata": {},
   "source": [
    "**Task 5** [3 points]. Check for each column how many missing values there are. \n",
    "For the columns with missing values using the method ```fillna()```. If the column has object data type (string), then replace each missing value in-place with a string 'Unknown'. If it has a float data type, replace each missing value in-place with the median value in this column. For finding the median for a particular column you can use ```df[column_name].median()```.\n",
    "\n",
    "Re-check that now you have no missing values in a table."
   ]
  },
  {
   "cell_type": "code",
   "execution_count": 68,
   "metadata": {},
   "outputs": [
    {
     "data": {
      "text/plain": [
       "ObservationDate        0\n",
       "Province/State     62045\n",
       "Country/Region         0\n",
       "Last Update            0\n",
       "Confirmed          78783\n",
       "Deaths                 0\n",
       "Recovered              0\n",
       "dtype: int64"
      ]
     },
     "execution_count": 68,
     "metadata": {},
     "output_type": "execute_result"
    }
   ],
   "source": [
    "df.isnull().sum()"
   ]
  },
  {
   "cell_type": "code",
   "execution_count": 69,
   "metadata": {},
   "outputs": [
    {
     "data": {
      "text/plain": [
       "ObservationDate        0\n",
       "Province/State         0\n",
       "Country/Region         0\n",
       "Last Update            0\n",
       "Confirmed          78783\n",
       "Deaths                 0\n",
       "Recovered              0\n",
       "dtype: int64"
      ]
     },
     "execution_count": 69,
     "metadata": {},
     "output_type": "execute_result"
    }
   ],
   "source": [
    "df[R\"Province/State\"].fillna(\"Unknown\", inplace = True)\n",
    "df.isnull().sum()"
   ]
  },
  {
   "cell_type": "code",
   "execution_count": 70,
   "metadata": {
    "scrolled": true
   },
   "outputs": [
    {
     "name": "stdout",
     "output_type": "stream",
     "text": [
      "<class 'pandas.core.frame.DataFrame'>\n",
      "Int64Index: 236017 entries, 1 to 236017\n",
      "Data columns (total 7 columns):\n",
      " #   Column           Non-Null Count   Dtype  \n",
      "---  ------           --------------   -----  \n",
      " 0   ObservationDate  236017 non-null  object \n",
      " 1   Province/State   236017 non-null  object \n",
      " 2   Country/Region   236017 non-null  object \n",
      " 3   Last Update      236017 non-null  object \n",
      " 4   Confirmed        157234 non-null  float64\n",
      " 5   Deaths           236017 non-null  float64\n",
      " 6   Recovered        236017 non-null  float64\n",
      "dtypes: float64(3), object(4)\n",
      "memory usage: 14.4+ MB\n"
     ]
    }
   ],
   "source": [
    "df.info()"
   ]
  },
  {
   "cell_type": "code",
   "execution_count": 71,
   "metadata": {},
   "outputs": [],
   "source": [
    "df[\"Confirmed\"].fillna(df[\"Confirmed\"].median(), inplace = True)"
   ]
  },
  {
   "cell_type": "code",
   "execution_count": 72,
   "metadata": {},
   "outputs": [
    {
     "data": {
      "text/plain": [
       "ObservationDate    0\n",
       "Province/State     0\n",
       "Country/Region     0\n",
       "Last Update        0\n",
       "Confirmed          0\n",
       "Deaths             0\n",
       "Recovered          0\n",
       "dtype: int64"
      ]
     },
     "execution_count": 72,
     "metadata": {},
     "output_type": "execute_result"
    }
   ],
   "source": [
    "df.isnull().sum()"
   ]
  },
  {
   "cell_type": "markdown",
   "metadata": {},
   "source": [
    "**Bonus task [3 points]**. \n",
    "\n",
    "1. Create a new column called Recovered Ratio with the percentage of recovered cases out of all closed cases (both recoveries and deaths). Replace missing values in a new column by 0.0. \n",
    "2. Filter the table by two conditions: 1) only the data on the last recent available date should be left 2) the recovered ratio should be more than 0. \n",
    "3. Sort this filtered table of data by the recovered ratio in ascending order. The population of which 10 countries suffered (based on the recovered ratio) the most? "
   ]
  },
  {
   "cell_type": "code",
   "execution_count": 73,
   "metadata": {},
   "outputs": [],
   "source": [
    "df['CoefRecov'] = (df['Recovered']/df['Confirmed'])*100 "
   ]
  },
  {
   "cell_type": "code",
   "execution_count": 74,
   "metadata": {},
   "outputs": [
    {
     "name": "stdout",
     "output_type": "stream",
     "text": [
      "<class 'pandas.core.frame.DataFrame'>\n",
      "Int64Index: 236017 entries, 1 to 236017\n",
      "Data columns (total 8 columns):\n",
      " #   Column           Non-Null Count   Dtype  \n",
      "---  ------           --------------   -----  \n",
      " 0   ObservationDate  236017 non-null  object \n",
      " 1   Province/State   236017 non-null  object \n",
      " 2   Country/Region   236017 non-null  object \n",
      " 3   Last Update      236017 non-null  object \n",
      " 4   Confirmed        236017 non-null  float64\n",
      " 5   Deaths           236017 non-null  float64\n",
      " 6   Recovered        236017 non-null  float64\n",
      " 7   CoefRecov        234467 non-null  float64\n",
      "dtypes: float64(4), object(4)\n",
      "memory usage: 16.2+ MB\n"
     ]
    }
   ],
   "source": [
    "df.info()"
   ]
  },
  {
   "cell_type": "code",
   "execution_count": 75,
   "metadata": {},
   "outputs": [],
   "source": [
    "df.columns =[column.replace(\" \", \"_\") for column in df.columns] \n",
    "df.query('CoefRecov > 0 and Last_Update == \"2021-02-28 05:22:20\"', inplace = True) "
   ]
  },
  {
   "cell_type": "code",
   "execution_count": 76,
   "metadata": {},
   "outputs": [
    {
     "data": {
      "text/html": [
       "<div>\n",
       "<style scoped>\n",
       "    .dataframe tbody tr th:only-of-type {\n",
       "        vertical-align: middle;\n",
       "    }\n",
       "\n",
       "    .dataframe tbody tr th {\n",
       "        vertical-align: top;\n",
       "    }\n",
       "\n",
       "    .dataframe thead th {\n",
       "        text-align: right;\n",
       "    }\n",
       "</style>\n",
       "<table border=\"1\" class=\"dataframe\">\n",
       "  <thead>\n",
       "    <tr style=\"text-align: right;\">\n",
       "      <th></th>\n",
       "      <th>ObservationDate</th>\n",
       "      <th>Province/State</th>\n",
       "      <th>Country/Region</th>\n",
       "      <th>Last_Update</th>\n",
       "      <th>Confirmed</th>\n",
       "      <th>Deaths</th>\n",
       "      <th>Recovered</th>\n",
       "      <th>CoefRecov</th>\n",
       "    </tr>\n",
       "    <tr>\n",
       "      <th>SNo</th>\n",
       "      <th></th>\n",
       "      <th></th>\n",
       "      <th></th>\n",
       "      <th></th>\n",
       "      <th></th>\n",
       "      <th></th>\n",
       "      <th></th>\n",
       "      <th></th>\n",
       "    </tr>\n",
       "  </thead>\n",
       "  <tbody>\n",
       "    <tr>\n",
       "      <th>235254</th>\n",
       "      <td>02/27/2021</td>\n",
       "      <td>Unknown</td>\n",
       "      <td>Afghanistan</td>\n",
       "      <td>2021-02-28 05:22:20</td>\n",
       "      <td>6675.5</td>\n",
       "      <td>2443.0</td>\n",
       "      <td>49288.0</td>\n",
       "      <td>738.341697</td>\n",
       "    </tr>\n",
       "    <tr>\n",
       "      <th>235255</th>\n",
       "      <td>02/27/2021</td>\n",
       "      <td>Unknown</td>\n",
       "      <td>Albania</td>\n",
       "      <td>2021-02-28 05:22:20</td>\n",
       "      <td>6675.5</td>\n",
       "      <td>1775.0</td>\n",
       "      <td>68969.0</td>\n",
       "      <td>1033.166055</td>\n",
       "    </tr>\n",
       "    <tr>\n",
       "      <th>235256</th>\n",
       "      <td>02/27/2021</td>\n",
       "      <td>Unknown</td>\n",
       "      <td>Algeria</td>\n",
       "      <td>2021-02-28 05:22:20</td>\n",
       "      <td>112960.0</td>\n",
       "      <td>2979.0</td>\n",
       "      <td>77976.0</td>\n",
       "      <td>69.029745</td>\n",
       "    </tr>\n",
       "    <tr>\n",
       "      <th>235257</th>\n",
       "      <td>02/27/2021</td>\n",
       "      <td>Unknown</td>\n",
       "      <td>Andorra</td>\n",
       "      <td>2021-02-28 05:22:20</td>\n",
       "      <td>6675.5</td>\n",
       "      <td>110.0</td>\n",
       "      <td>10429.0</td>\n",
       "      <td>156.227998</td>\n",
       "    </tr>\n",
       "    <tr>\n",
       "      <th>235258</th>\n",
       "      <td>02/27/2021</td>\n",
       "      <td>Unknown</td>\n",
       "      <td>Angola</td>\n",
       "      <td>2021-02-28 05:22:20</td>\n",
       "      <td>20782.0</td>\n",
       "      <td>506.0</td>\n",
       "      <td>19315.0</td>\n",
       "      <td>92.941007</td>\n",
       "    </tr>\n",
       "    <tr>\n",
       "      <th>235259</th>\n",
       "      <td>02/27/2021</td>\n",
       "      <td>Unknown</td>\n",
       "      <td>Antigua and Barbuda</td>\n",
       "      <td>2021-02-28 05:22:20</td>\n",
       "      <td>6675.5</td>\n",
       "      <td>14.0</td>\n",
       "      <td>291.0</td>\n",
       "      <td>4.359224</td>\n",
       "    </tr>\n",
       "    <tr>\n",
       "      <th>235260</th>\n",
       "      <td>02/27/2021</td>\n",
       "      <td>Unknown</td>\n",
       "      <td>Argentina</td>\n",
       "      <td>2021-02-28 05:22:20</td>\n",
       "      <td>2104197.0</td>\n",
       "      <td>51946.0</td>\n",
       "      <td>1899087.0</td>\n",
       "      <td>90.252339</td>\n",
       "    </tr>\n",
       "    <tr>\n",
       "      <th>235261</th>\n",
       "      <td>02/27/2021</td>\n",
       "      <td>Unknown</td>\n",
       "      <td>Armenia</td>\n",
       "      <td>2021-02-28 05:22:20</td>\n",
       "      <td>171793.0</td>\n",
       "      <td>3190.0</td>\n",
       "      <td>163309.0</td>\n",
       "      <td>95.061498</td>\n",
       "    </tr>\n",
       "    <tr>\n",
       "      <th>235262</th>\n",
       "      <td>02/27/2021</td>\n",
       "      <td>Unknown</td>\n",
       "      <td>Austria</td>\n",
       "      <td>2021-02-28 05:22:20</td>\n",
       "      <td>457317.0</td>\n",
       "      <td>8538.0</td>\n",
       "      <td>428904.0</td>\n",
       "      <td>93.787023</td>\n",
       "    </tr>\n",
       "    <tr>\n",
       "      <th>235263</th>\n",
       "      <td>02/27/2021</td>\n",
       "      <td>Unknown</td>\n",
       "      <td>Azerbaijan</td>\n",
       "      <td>2021-02-28 05:22:20</td>\n",
       "      <td>234267.0</td>\n",
       "      <td>3218.0</td>\n",
       "      <td>228651.0</td>\n",
       "      <td>97.602735</td>\n",
       "    </tr>\n",
       "  </tbody>\n",
       "</table>\n",
       "</div>"
      ],
      "text/plain": [
       "       ObservationDate Province/State       Country/Region  \\\n",
       "SNo                                                          \n",
       "235254      02/27/2021        Unknown          Afghanistan   \n",
       "235255      02/27/2021        Unknown              Albania   \n",
       "235256      02/27/2021        Unknown              Algeria   \n",
       "235257      02/27/2021        Unknown              Andorra   \n",
       "235258      02/27/2021        Unknown               Angola   \n",
       "235259      02/27/2021        Unknown  Antigua and Barbuda   \n",
       "235260      02/27/2021        Unknown            Argentina   \n",
       "235261      02/27/2021        Unknown              Armenia   \n",
       "235262      02/27/2021        Unknown              Austria   \n",
       "235263      02/27/2021        Unknown           Azerbaijan   \n",
       "\n",
       "                Last_Update  Confirmed   Deaths  Recovered    CoefRecov  \n",
       "SNo                                                                      \n",
       "235254  2021-02-28 05:22:20     6675.5   2443.0    49288.0   738.341697  \n",
       "235255  2021-02-28 05:22:20     6675.5   1775.0    68969.0  1033.166055  \n",
       "235256  2021-02-28 05:22:20   112960.0   2979.0    77976.0    69.029745  \n",
       "235257  2021-02-28 05:22:20     6675.5    110.0    10429.0   156.227998  \n",
       "235258  2021-02-28 05:22:20    20782.0    506.0    19315.0    92.941007  \n",
       "235259  2021-02-28 05:22:20     6675.5     14.0      291.0     4.359224  \n",
       "235260  2021-02-28 05:22:20  2104197.0  51946.0  1899087.0    90.252339  \n",
       "235261  2021-02-28 05:22:20   171793.0   3190.0   163309.0    95.061498  \n",
       "235262  2021-02-28 05:22:20   457317.0   8538.0   428904.0    93.787023  \n",
       "235263  2021-02-28 05:22:20   234267.0   3218.0   228651.0    97.602735  "
      ]
     },
     "execution_count": 76,
     "metadata": {},
     "output_type": "execute_result"
    }
   ],
   "source": [
    "df.sort_values(\"CoefRecov\")\n",
    "df.head(10)"
   ]
  }
 ],
 "metadata": {
  "kernelspec": {
   "display_name": "Python 3",
   "language": "python",
   "name": "python3"
  },
  "language_info": {
   "codemirror_mode": {
    "name": "ipython",
    "version": 3
   },
   "file_extension": ".py",
   "mimetype": "text/x-python",
   "name": "python",
   "nbconvert_exporter": "python",
   "pygments_lexer": "ipython3",
   "version": "3.8.5"
  }
 },
 "nbformat": 4,
 "nbformat_minor": 2
}
