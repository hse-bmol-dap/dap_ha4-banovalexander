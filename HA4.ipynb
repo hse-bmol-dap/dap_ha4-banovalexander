{
 "cells": [
  {
   "cell_type": "markdown",
   "metadata": {},
   "source": [
    "# <center> Home assignment 4. Pandas </center>"
   ]
  },
  {
   "cell_type": "code",
   "execution_count": 1,
   "metadata": {},
   "outputs": [],
   "source": [
    "import pandas as pd"
   ]
  },
  {
   "cell_type": "markdown",
   "metadata": {},
   "source": [
    "From [World Health Organization](https://www.who.int/emergencies/diseases/novel-coronavirus-2019) - On 31 December 2019, WHO was alerted to several cases of pneumonia in Wuhan City, Hubei Province of China. The virus did not match any other known virus. This raised concern because when a virus is new, we do not know how it affects people. So daily level information on the affected people can give some interesting insights when it is made available to the broader data science community.\n",
    "\n",
    "This data set (```covid_19_data_ha4.csv```) has daily level information on the number of affected cases, deaths, and recovery from the 2019 novel coronavirus. Please note that this is time-series data and so the number of cases on any given day is the cumulative number. The data is available from 22 January 2020.\n",
    "\n",
    "The data source for more details: https://www.kaggle.com/sudalairajkumar/novel-corona-virus-2019-dataset?select=covid_19_data.csv\n",
    "\n",
    "By the way, [Johns Hopkins University](https://gisanddata.maps.arcgis.com/apps/opsdashboard/index.html#/bda7594740fd40299423467b48e9ecf6) has made an excellent dashboard using the affected cases from this data set. "
   ]
  },
  {
   "cell_type": "markdown",
   "metadata": {},
   "source": [
    "**Task 1** [1 point]. Read the data set ```covid_19_data_ha4.csv``` into DataFrame using pandas library, change a parameter for making the first column (```SNo```) to be the index of out table, and save a variable ```df``` for addressing to this table (DataFrame) in the next steps. Return the first 20 rows in the output and have a look at what is inside this table."
   ]
  },
  {
   "cell_type": "code",
   "execution_count": 2,
   "metadata": {
    "scrolled": true
   },
   "outputs": [],
   "source": [
    "# Your code here"
   ]
  },
  {
   "cell_type": "markdown",
   "metadata": {},
   "source": [
    "**Task 2** [2 points]. Look at the size of this data set (how many rows and columns it contains).Check the data types for all columns and get descriptive statistics for all of them.\n",
    "\n",
    "*Hint*: You can summarize the numeric and text columns separately, or compile one summary that includes all data types."
   ]
  },
  {
   "cell_type": "code",
   "execution_count": 3,
   "metadata": {},
   "outputs": [],
   "source": [
    "# Your code here"
   ]
  },
  {
   "cell_type": "markdown",
   "metadata": {},
   "source": [
    "**Task 3** [3 points]. Answer the following questions using the descriptive statistics report (from Task 2):\n",
    "\n",
    "| Questions | \n",
    "| :--- |\n",
    "| 1. How many countries covers this data set on COVID-19? |\n",
    "| 2. On what observation date the table contains the most information (the greatest number of rows)?  |\n",
    "| 3. What is the median  for the number of deaths?|\n",
    "\n",
    "\n",
    "*Remark*: \n",
    "\n",
    "If you see numbers in your table in exponential format, for instance, 2.360170e+05, you can convert them to floating point for convenience:\n",
    "\n",
    "```python \n",
    ">>> float(2.360170e+05)\n",
    "236017.0\n",
    "```"
   ]
  },
  {
   "cell_type": "code",
   "execution_count": 4,
   "metadata": {},
   "outputs": [],
   "source": [
    "# Your answers here (it is better to change the format of this cell to Markdown)"
   ]
  },
  {
   "cell_type": "markdown",
   "metadata": {},
   "source": [
    "**Task 4** [1 point]. Recall a method that we used for getting counts for unique rows in the DataFrame.\n",
    "Select a column with observation dates and return the distribution how many rows are in this table for each date. Make it in ascending order and select top 50 rows.\n",
    "\n",
    "Now, you are able to see how many states and countries were confirmed to have COVID-19 starting from 22 January 2020 for the first 50 days. "
   ]
  },
  {
   "cell_type": "code",
   "execution_count": 5,
   "metadata": {
    "scrolled": true
   },
   "outputs": [],
   "source": [
    "# Your code here"
   ]
  },
  {
   "cell_type": "markdown",
   "metadata": {},
   "source": [
    "**Task 5** [3 points]. Check for each column how many missing values there are. \n",
    "For the columns with missing values using the method ```fillna()```. If the column has object data type (string), then replace each missing value in-place with a string 'Unknown'. If it has a float data type, replace each missing value in-place with the median value in this column. For finding the median for a particular column you can use ```df[column_name].median()```.\n",
    "\n",
    "Re-check that now you have no missing values in a table."
   ]
  },
  {
   "cell_type": "code",
   "execution_count": 6,
   "metadata": {},
   "outputs": [],
   "source": [
    "# Your code here"
   ]
  },
  {
   "cell_type": "markdown",
   "metadata": {},
   "source": [
    "**Bonus task [3 points]**. \n",
    "\n",
    "1. Create a new column called Recovered Ratio with the percentage of recovered cases out of all closed cases (both recoveries and deaths). Replace missing values in a new column by 0.0. \n",
    "2. Filter the table by two conditions: 1) only the data on the last recent available date should be left 2) the recovered ratio should be more than 0. \n",
    "3. Sort this filtered table of data by the recovered ratio in ascending order. The population of which 10 countries suffered (based on the recovered ratio) the most? "
   ]
  },
  {
   "cell_type": "code",
   "execution_count": 7,
   "metadata": {},
   "outputs": [],
   "source": [
    "# Your code here"
   ]
  },
  {
   "cell_type": "code",
   "execution_count": null,
   "metadata": {},
   "outputs": [],
   "source": []
  }
 ],
 "metadata": {
  "kernelspec": {
   "display_name": "Python 3",
   "language": "python",
   "name": "python3"
  },
  "language_info": {
   "codemirror_mode": {
    "name": "ipython",
    "version": 3
   },
   "file_extension": ".py",
   "mimetype": "text/x-python",
   "name": "python",
   "nbconvert_exporter": "python",
   "pygments_lexer": "ipython3",
   "version": "3.8.3"
  }
 },
 "nbformat": 4,
 "nbformat_minor": 2
}
